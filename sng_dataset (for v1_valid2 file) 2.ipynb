{
  "cells": [
    {
      "cell_type": "code",
      "execution_count": null,
      "id": "0374f54c",
      "metadata": {
        "id": "0374f54c"
      },
      "outputs": [],
      "source": [
        "import pandas as pd\n",
        "import matplotlib\n",
        "import matplotlib.pyplot as plt\n",
        "from matplotlib.ticker import (MultipleLocator, FormatStrFormatter, AutoMinorLocator)\n",
        "import matplotlib.dates as mdates\n",
        "from datetime import datetime, timedelta\n",
        "from os import makedirs\n"
      ]
    },
    {
      "cell_type": "code",
      "execution_count": null,
      "id": "FeZuFDuofvI0",
      "metadata": {
        "id": "FeZuFDuofvI0"
      },
      "outputs": [],
      "source": [
        "#plt.rcParams[\"font.family\"] = \"Times New Roman\"\n",
        "#plt.rcParams.update({'font.size': 18})"
      ]
    },
    {
      "cell_type": "code",
      "source": [
        "# second way for font and size\n",
        "plt.rcParams['font.family'] = 'serif'\n",
        "plt.rcParams['font.serif'] = ['Times New Roman'] + plt.rcParams['font.serif']\n",
        "plt.rcParams['font.size'] = 18"
      ],
      "metadata": {
        "id": "JBnHjWcHg8pm"
      },
      "id": "JBnHjWcHg8pm",
      "execution_count": null,
      "outputs": []
    },
    {
      "cell_type": "code",
      "execution_count": null,
      "id": "3AWBbztNs-jf",
      "metadata": {
        "id": "3AWBbztNs-jf"
      },
      "outputs": [],
      "source": [
        "file = 'sng_dataset_v1_valid2' #the name of a file.\n",
        "try:\n",
        "    makedirs(f\"plots/{file}\")\n",
        "except FileExistsError:\n",
        "    pass\n",
        "sng_dataset_v1_unedited = pd.read_csv(f'{file}.csv')"
      ]
    },
    {
      "cell_type": "code",
      "execution_count": null,
      "id": "0940da18",
      "metadata": {
        "id": "0940da18"
      },
      "outputs": [],
      "source": [
        "columns_to_delete = [\"Unnamed: 0\",\"MIDUPT1138P2300058\", \"SHORTUPT1138P2300058\", \"LONGUPT1138P2300058\", \"T1013P500399\"]\n",
        "sng_dataset_v1 = sng_dataset_v1_unedited.drop(columns = columns_to_delete)"
      ]
    },
    {
      "cell_type": "code",
      "execution_count": null,
      "id": "5eb3a1df",
      "metadata": {
        "id": "5eb3a1df"
      },
      "outputs": [],
      "source": [
        "#SORTED BY WELL_ID AND TIME (FROM EARLIEST TO LATEST)\n",
        "sng_dataset_v1 = sng_dataset_v1.sort_values([\"WELL_ID\", \"UUID\"])"
      ]
    },
    {
      "cell_type": "markdown",
      "id": "HKiE1b06t9i5",
      "metadata": {
        "id": "HKiE1b06t9i5"
      },
      "source": [
        "Подготовка к построению графиков"
      ]
    },
    {
      "cell_type": "code",
      "execution_count": null,
      "id": "a6c8056c",
      "metadata": {
        "id": "a6c8056c"
      },
      "outputs": [],
      "source": [
        "#DT variable change from string to DateTime\n",
        "sng_dataset_v1['DT'] = pd.to_datetime(sng_dataset_v1['DT'], errors='coerce')"
      ]
    },
    {
      "cell_type": "code",
      "execution_count": null,
      "id": "1c5d8ec4",
      "metadata": {
        "id": "1c5d8ec4"
      },
      "outputs": [],
      "source": [
        "#DataFrame with well_id and time when the first data was taken\n",
        "pumps_numbers = sng_dataset_v1.drop_duplicates('WELL_ID')[['WELL_ID', 'DT']] # уникальные данные ID насосов\n",
        "pumps_numbers = pumps_numbers.set_index('WELL_ID')\n",
        "#pumps_numbers_for_file = sng_dataset_v1[\"WELL_ID\"].drop_duplicates().tolist()\n"
      ]
    },
    {
      "cell_type": "code",
      "execution_count": null,
      "id": "7c499ada",
      "metadata": {
        "id": "7c499ada"
      },
      "outputs": [],
      "source": [
        "for pump in pumps_numbers.index:\n",
        "    try:\n",
        "        makedirs(f\"plots/{file}/{pump}\")\n",
        "    except FileExistsError:\n",
        "        pass"
      ]
    },
    {
      "cell_type": "code",
      "execution_count": null,
      "id": "0519bc47",
      "metadata": {
        "id": "0519bc47"
      },
      "outputs": [],
      "source": [
        "#how many days needed to be shown.\n",
        "days_want_to_observe = 3\n",
        "#locators\n",
        "hours = mdates.HourLocator(interval = 12)\n",
        "hour = mdates.HourLocator(interval = 1)"
      ]
    },
    {
      "cell_type": "code",
      "execution_count": null,
      "id": "b05ac89c",
      "metadata": {
        "id": "b05ac89c"
      },
      "outputs": [],
      "source": [
        "def plotting_SETTINGS(pump, char, NAME, y_label):\n",
        "  fig, ax = plt.subplots(figsize=(12,6))\n",
        "  plt.plot(sng_dataset_v1[(sng_dataset_v1[\"WELL_ID\"] == pump)]['DT'],\n",
        "           sng_dataset_v1[(sng_dataset_v1[\"WELL_ID\"] == pump)][char])\n",
        "  ax.xaxis.set_major_locator(hours)\n",
        "  ax.xaxis.set_minor_locator(hour)\n",
        "  ax.xaxis.set_major_formatter(mdates.ConciseDateFormatter(ax.xaxis.get_major_locator(), show_offset= False,\n",
        "                                                          formats = ['%H:%M \\n %d %b, %Y', '%H:%M \\n %d %b, %Y', '%H:%M \\n %d %b, %Y', '%H:%M', '%H:%M', '%S.%f']))\n",
        "  plt.xlim(pumps_numbers.loc[pump,'DT'], pumps_numbers.loc[pump,'DT']+timedelta(minutes=days_want_to_observe*24*60))\n",
        "  plt.xlabel(r'$t$, час')\n",
        "  plt.ylabel(y_label)\n",
        "  plt.tight_layout()\n",
        "  plt.savefig(f\"plots/{file}/{pump}/v1_{pump}_{NAME}.jpg\")\n",
        "  plt.close()"
      ]
    },
    {
      "cell_type": "code",
      "execution_count": null,
      "id": "zirTdkFqq-qy",
      "metadata": {
        "id": "zirTdkFqq-qy"
      },
      "outputs": [],
      "source": [
        "def making_plots(pump):\n",
        "\n",
        "  # Наработка двигателя с момента последнего включения, сек ('T1138P6000096')\n",
        "  plotting_SETTINGS(pump, 'T1138P6000096', \"Наработка_двигателя_с_момента_последнего_включения_сек\", r'$T_{r}$, сек')\n",
        "\n",
        "  #Загрузка двигателя, % ('T1138P4000064')\n",
        "  plotting_SETTINGS(pump, 'T1138P4000064', \"Загрузка_двигателя_процент\", r'$K_{l}$, %')\n",
        "\n",
        "  #Коэффициент мощности (cos fi) ('T1138P600050')\n",
        "  plotting_SETTINGS(pump, 'T1138P600050', \"Коэффициент_мощности_cos_fi\", 'cos(φ)')\n",
        "\n",
        "  #Ток фазы A двигателя, А ('T1138P2600012')\n",
        "  plotting_SETTINGS(pump, 'T1138P2600012', \"Ток_фазы_A_двигателя_А\", r'$T_{φ}$, А')\n",
        "\n",
        "  #Средняя скорость изменения давления в коллекторе измерительной установки в часовом диапазоне усреднения, МПа/час ('DSHORTT1205P2300000')\n",
        "  plotting_SETTINGS(pump, 'DSHORTT1205P2300000', \"скорость_изменения_давления_в_коллекторе_мпа_час\", r'$y$, МПа/час')\n",
        "\n",
        "  #Средняя скорость изменения загрузки двигателя ЧАС, %/час ('DSHORTT1138P4000064')\n",
        "  plotting_SETTINGS(pump, 'DSHORTT1138P4000064', \"скорость_изменения_загрузки_процент_час\", r'$ΔK_{l}/Δ𝑡$, %/час')\n",
        "\n",
        "for p in pumps_numbers.index:\n",
        "    making_plots(p)"
      ]
    },
    {
      "cell_type": "code",
      "execution_count": null,
      "id": "058d5f23",
      "metadata": {
        "id": "058d5f23"
      },
      "outputs": [],
      "source": [
        "#automatic archive\n",
        "import shutil\n",
        "shutil.make_archive('plots', 'zip','plots')"
      ]
    },
    {
      "cell_type": "code",
      "execution_count": null,
      "id": "Y3BI7yjGb6IO",
      "metadata": {
        "colab": {
          "base_uri": "https://localhost:8080/",
          "height": 17
        },
        "id": "Y3BI7yjGb6IO",
        "outputId": "468c2986-ac35-4c9d-8ad9-caf87d3f8a53"
      },
      "outputs": [
        {
          "data": {
            "text/plain": [
              "'\\nfrom google.colab import files\\nfiles.download(\"/content/plots.zip\")\\n'"
            ]
          },
          "execution_count": 13,
          "metadata": {},
          "output_type": "execute_result"
        }
      ],
      "source": [
        "#download files\n",
        "from google.colab import files\n",
        "files.download(\"/content/plots.zip\")\n"
      ]
    },
    {
      "cell_type": "code",
      "execution_count": null,
      "id": "I542QwYGfLqF",
      "metadata": {
        "colab": {
          "base_uri": "https://localhost:8080/",
          "height": 253
        },
        "id": "I542QwYGfLqF",
        "outputId": "3c71a978-1d52-4558-c076-cb79a743fb77"
      },
      "outputs": [
        {
          "data": {
            "text/plain": [
              "'pump = 226002148\\nhours = mdates.HourLocator(interval = 2)\\nhour = mdates.HourLocator(interval = 1)\\nfig, ax = plt.subplots(figsize=(25,6))\\nplt.plot(sng_dataset_v1[(sng_dataset_v1[\"WELL_ID\"] == pump)][\\'DT\\'], \\n         sng_dataset_v1[(sng_dataset_v1[\"WELL_ID\"] == pump)][\\'T1138P6000096\\'])\\nax.xaxis.set_major_locator(hours)\\nax.xaxis.set_minor_locator(hour)\\nax.xaxis.set_major_formatter(mdates.ConciseDateFormatter(ax.xaxis.get_major_locator(), \\n                                                         show_offset= False,\\n                                                         formats = [\\'%H:%M \\n %d %b, %Y\\', \\'%H:%M \\n %d %b, %Y\\', \\'%H:%M \\n %d %b, %Y\\', \\'%H:%M\\', \\'%H:%M\\', \\'%S.%f\\']))\\nplt.xlim(sng_dataset_v1[\"DT\"].min(), sng_dataset_v1[\"DT\"].min()+timedelta(minutes=3*24*60))\\nfig.autofmt_xdate()\\nsng_dataset_v1[\"DT\"].min()'"
            ]
          },
          "execution_count": 14,
          "metadata": {},
          "output_type": "execute_result"
        }
      ],
      "source": [
        "\"\"\"pump = 226002148\n",
        "hours = mdates.HourLocator(interval = 2)\n",
        "hour = mdates.HourLocator(interval = 1)\n",
        "fig, ax = plt.subplots(figsize=(25,6))\n",
        "plt.plot(sng_dataset_v1[(sng_dataset_v1[\"WELL_ID\"] == pump)]['DT'],\n",
        "         sng_dataset_v1[(sng_dataset_v1[\"WELL_ID\"] == pump)]['T1138P6000096'])\n",
        "ax.xaxis.set_major_locator(hours)\n",
        "ax.xaxis.set_minor_locator(hour)\n",
        "ax.xaxis.set_major_formatter(mdates.ConciseDateFormatter(ax.xaxis.get_major_locator(),\n",
        "                                                         show_offset= False,\n",
        "                                                         formats = ['%H:%M \\n %d %b, %Y', '%H:%M \\n %d %b, %Y', '%H:%M \\n %d %b, %Y', '%H:%M', '%H:%M', '%S.%f']))\n",
        "plt.xlim(sng_dataset_v1[\"DT\"].min(), sng_dataset_v1[\"DT\"].min()+timedelta(minutes=3*24*60))\n",
        "fig.autofmt_xdate()\n",
        "sng_dataset_v1[\"DT\"].min()\"\"\""
      ]
    },
    {
      "cell_type": "code",
      "execution_count": null,
      "id": "0EcHRGCxfRZC",
      "metadata": {
        "colab": {
          "base_uri": "https://localhost:8080/",
          "height": 254
        },
        "id": "0EcHRGCxfRZC",
        "outputId": "0cd403c1-31a3-4ba3-a2b3-a224a7147956"
      },
      "outputs": [
        {
          "data": {
            "text/plain": [
              "'data = sng_dataset_v1[(sng_dataset_v1[\"WELL_ID\"] == 226000188)][\\'T1138P6000096\\']\\nfig, ax = plt.subplots(figsize=(25,6))\\n\\ndf = pd.DataFrame(sng_dataset_v1[(sng_dataset_v1[\"WELL_ID\"] == 226000188)][\\'T1138P6000096\\'])\\ndf = df.set_index(data_time)\\n\\n\\nplt.plot(df.index, df.values)\\n\\nax.xaxis.set_major_locator(mdates.DayLocator(bymonthday=(1,3)))\\nax.xaxis.set_minor_locator(mdates.HourLocator(byhour=(1)))\\n\\nax.xaxis.set_major_formatter(mdates.DateFormatter(\\'%d-%m-%Y %H:%M:%S\\'))\\nax.xaxis.set_minor_formatter(mdates.DateFormatter(\\'%H:%M:%S\\'))'"
            ]
          },
          "execution_count": 15,
          "metadata": {},
          "output_type": "execute_result"
        }
      ],
      "source": [
        "\"\"\"data = sng_dataset_v1[(sng_dataset_v1[\"WELL_ID\"] == 226000188)]['T1138P6000096']\n",
        "fig, ax = plt.subplots(figsize=(25,6))\n",
        "\n",
        "df = pd.DataFrame(sng_dataset_v1[(sng_dataset_v1[\"WELL_ID\"] == 226000188)]['T1138P6000096'])\n",
        "df = df.set_index(data_time)\n",
        "\n",
        "\n",
        "plt.plot(df.index, df.values)\n",
        "\n",
        "ax.xaxis.set_major_locator(mdates.DayLocator(bymonthday=(1,3)))\n",
        "ax.xaxis.set_minor_locator(mdates.HourLocator(byhour=(1)))\n",
        "\n",
        "ax.xaxis.set_major_formatter(mdates.DateFormatter('%d-%m-%Y %H:%M:%S'))\n",
        "ax.xaxis.set_minor_formatter(mdates.DateFormatter('%H:%M:%S'))\"\"\""
      ]
    }
  ],
  "metadata": {
    "colab": {
      "provenance": []
    },
    "kernelspec": {
      "display_name": "Python 3 (ipykernel)",
      "language": "python",
      "name": "python3"
    },
    "language_info": {
      "codemirror_mode": {
        "name": "ipython",
        "version": 3
      },
      "file_extension": ".py",
      "mimetype": "text/x-python",
      "name": "python",
      "nbconvert_exporter": "python",
      "pygments_lexer": "ipython3",
      "version": "3.10.9"
    }
  },
  "nbformat": 4,
  "nbformat_minor": 5
}